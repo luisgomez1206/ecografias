{
 "cells": [
  {
   "cell_type": "markdown",
   "id": "dd9865fd",
   "metadata": {},
   "source": [
    "# Examen Metodos de Analisis estadistico II  Luis Gómez M"
   ]
  },
  {
   "cell_type": "markdown",
   "id": "e6144c83",
   "metadata": {},
   "source": [
    "Entre mis actividades en el Hospital Salvador está el realizar Ecografias oftalmologicas, habitualmente escribía mis informes a mano alzada en el mismo documento donde imprimia las fotografias, sin embargo los colegas me reclamaron por mi mala letra asi es que hace seis meses decidí imprimir mis informes a partir de archivos .txt que escribo en el bloc de notas y luego los imprimo  y los guardo.   "
   ]
  },
  {
   "cell_type": "raw",
   "id": "8d835cb7",
   "metadata": {},
   "source": [
    "Los informes típicamente no contienen diagnósticos, sino solo descripciones, este es un ejemplo: \n",
    "Ojo izquierdo <-  \n",
    "\t\tVitreo claro\n",
    "\t\tDVP completo\n",
    "\t\tRetina aplicada\n",
    "\t\tCoroides de grosor normal\n",
    "\t\t\n",
    "        "
   ]
  },
  {
   "cell_type": "raw",
   "id": "97c5b06a",
   "metadata": {},
   "source": [
    "Con esta información generé un archivo .csv con 122 informes etiquetados como normales(0) y patológicos(1), adicionalmente se dividó el archivo en dos: uno de entrenamiento (ecotrain.csv)con 90 informes y otro de test (ecotest.csv)con 32 informes. Yo soy el autor de la totalidad de los informes y yo los etiqueté.  El nombre de los pacientes fué eliminado."
   ]
  },
  {
   "cell_type": "markdown",
   "id": "636656e2",
   "metadata": {},
   "source": [
    "Hipótesis:  Mediante metodos de PLN se puede determinar si un informe ecográfico corresponde a una ecografia normal o patológica.  Considerando que los informes no contienen diagnóstico alguno."
   ]
  },
  {
   "cell_type": "markdown",
   "id": "c04d5464",
   "metadata": {},
   "source": [
    "La impresión empírica es que los informes normales contienen una menor variedad de tokens.\n",
    "Suelen ser muy parecidos entre si, a diferencia de los informes patológicos que son más variados.\n"
   ]
  },
  {
   "cell_type": "markdown",
   "id": "189171df",
   "metadata": {},
   "source": [
    "las ventajas de este dataset es que conozco muy bien los datos involucrados y como se generan y la desventaja es que tiene poca longitud y eso no permite sacar buenas conclusiones."
   ]
  },
  {
   "cell_type": "markdown",
   "id": "f8a6aba4",
   "metadata": {},
   "source": [
    "Voy a realizar el mejor preprocesamiento de los datos posible, luego voy a intentar usar el metodo de extraccion de caracteristicas TF-IDF y luego el metodo de clasificacion Naive-Bayes los cuales me parecen los mas adecuados tomando en cuenta mi hipotesis."
   ]
  },
  {
   "cell_type": "markdown",
   "id": "5863e0c6",
   "metadata": {},
   "source": [
    "# Preprocesamiento"
   ]
  },
  {
   "cell_type": "markdown",
   "id": "184873c6",
   "metadata": {},
   "source": [
    "Para comenzar se importan las librerias necesarias."
   ]
  },
  {
   "cell_type": "code",
   "execution_count": 3,
   "id": "31a1b45b",
   "metadata": {},
   "outputs": [],
   "source": [
    "import datasets # Biblioteca de manejo de conjuntos de datos para procesamiento de lenguaje natural\n",
    "import es_core_news_sm # Modelo Spacy de procesamiento de lenguaje natural en español\n",
    "import spacy # Biblioteca de procesamiento de lenguaje natural\n",
    "import pandas as pd # Biblioteca de manejo de conjuntos de datos\n",
    "import re # Módulo de expresiones regulares\n",
    "import tokenizers # Biblioteca de tokenización de texto\n",
    "import nltk # Biblioteca de procesamiento de lenguaje natural\n",
    "import wordcloud"
   ]
  },
  {
   "cell_type": "code",
   "execution_count": 5,
   "id": "dc814f44",
   "metadata": {},
   "outputs": [
    {
     "name": "stderr",
     "output_type": "stream",
     "text": [
      "Using custom data configuration default-15701dc4757688e7\n"
     ]
    },
    {
     "name": "stdout",
     "output_type": "stream",
     "text": [
      "Downloading and preparing dataset csv/default to C:\\Users\\lalog_000\\.cache\\huggingface\\datasets\\csv\\default-15701dc4757688e7\\0.0.0\\433e0ccc46f9880962cc2b12065189766fbb2bee57a221866138fb9203c83519...\n"
     ]
    },
    {
     "data": {
      "application/vnd.jupyter.widget-view+json": {
       "model_id": "246396d6cacd4580b62f93385e6fafc1",
       "version_major": 2,
       "version_minor": 0
      },
      "text/plain": [
       "Downloading data files:   0%|          | 0/1 [00:00<?, ?it/s]"
      ]
     },
     "metadata": {},
     "output_type": "display_data"
    },
    {
     "data": {
      "application/vnd.jupyter.widget-view+json": {
       "model_id": "dcffade2f01f407dbe1d5c6e872d07a7",
       "version_major": 2,
       "version_minor": 0
      },
      "text/plain": [
       "Extracting data files:   0%|          | 0/1 [00:00<?, ?it/s]"
      ]
     },
     "metadata": {},
     "output_type": "display_data"
    },
    {
     "name": "stderr",
     "output_type": "stream",
     "text": [
      "Failed to read file 'C:\\Users\\lalog_000\\Desktop\\MIM\\ecotrain.csv' with error <class 'pandas.errors.ParserError'>: Error tokenizing data. C error: Expected 1 fields in line 114, saw 2\n",
      "\n"
     ]
    },
    {
     "ename": "ParserError",
     "evalue": "Error tokenizing data. C error: Expected 1 fields in line 114, saw 2\n",
     "output_type": "error",
     "traceback": [
      "\u001b[1;31m---------------------------------------------------------------------------\u001b[0m",
      "\u001b[1;31mParserError\u001b[0m                               Traceback (most recent call last)",
      "\u001b[1;32m<ipython-input-5-e0c52767d372>\u001b[0m in \u001b[0;36m<module>\u001b[1;34m\u001b[0m\n\u001b[1;32m----> 1\u001b[1;33m \u001b[0mecotrain\u001b[0m \u001b[1;33m=\u001b[0m \u001b[0mdatasets\u001b[0m\u001b[1;33m.\u001b[0m\u001b[0mload_dataset\u001b[0m\u001b[1;33m(\u001b[0m\u001b[1;34m'csv'\u001b[0m\u001b[1;33m,\u001b[0m \u001b[0mdata_files\u001b[0m\u001b[1;33m=\u001b[0m\u001b[1;34m'C:\\\\Users\\\\lalog_000\\\\Desktop\\\\MIM\\\\ecotrain.csv'\u001b[0m\u001b[1;33m)\u001b[0m\u001b[1;33m\u001b[0m\u001b[1;33m\u001b[0m\u001b[0m\n\u001b[0m",
      "\u001b[1;32m~\\anaconda3\\lib\\site-packages\\datasets\\load.py\u001b[0m in \u001b[0;36mload_dataset\u001b[1;34m(path, name, data_dir, data_files, split, cache_dir, features, download_config, download_mode, ignore_verifications, keep_in_memory, save_infos, revision, use_auth_token, task, streaming, **config_kwargs)\u001b[0m\n\u001b[0;32m   1689\u001b[0m \u001b[1;33m\u001b[0m\u001b[0m\n\u001b[0;32m   1690\u001b[0m     \u001b[1;31m# Download and prepare data\u001b[0m\u001b[1;33m\u001b[0m\u001b[1;33m\u001b[0m\u001b[1;33m\u001b[0m\u001b[0m\n\u001b[1;32m-> 1691\u001b[1;33m     builder_instance.download_and_prepare(\n\u001b[0m\u001b[0;32m   1692\u001b[0m         \u001b[0mdownload_config\u001b[0m\u001b[1;33m=\u001b[0m\u001b[0mdownload_config\u001b[0m\u001b[1;33m,\u001b[0m\u001b[1;33m\u001b[0m\u001b[1;33m\u001b[0m\u001b[0m\n\u001b[0;32m   1693\u001b[0m         \u001b[0mdownload_mode\u001b[0m\u001b[1;33m=\u001b[0m\u001b[0mdownload_mode\u001b[0m\u001b[1;33m,\u001b[0m\u001b[1;33m\u001b[0m\u001b[1;33m\u001b[0m\u001b[0m\n",
      "\u001b[1;32m~\\anaconda3\\lib\\site-packages\\datasets\\builder.py\u001b[0m in \u001b[0;36mdownload_and_prepare\u001b[1;34m(self, download_config, download_mode, ignore_verifications, try_from_hf_gcs, dl_manager, base_path, use_auth_token, **download_and_prepare_kwargs)\u001b[0m\n\u001b[0;32m    603\u001b[0m                             \u001b[0mlogger\u001b[0m\u001b[1;33m.\u001b[0m\u001b[0mwarning\u001b[0m\u001b[1;33m(\u001b[0m\u001b[1;34m\"HF google storage unreachable. Downloading and preparing it from source\"\u001b[0m\u001b[1;33m)\u001b[0m\u001b[1;33m\u001b[0m\u001b[1;33m\u001b[0m\u001b[0m\n\u001b[0;32m    604\u001b[0m                     \u001b[1;32mif\u001b[0m \u001b[1;32mnot\u001b[0m \u001b[0mdownloaded_from_gcs\u001b[0m\u001b[1;33m:\u001b[0m\u001b[1;33m\u001b[0m\u001b[1;33m\u001b[0m\u001b[0m\n\u001b[1;32m--> 605\u001b[1;33m                         self._download_and_prepare(\n\u001b[0m\u001b[0;32m    606\u001b[0m                             \u001b[0mdl_manager\u001b[0m\u001b[1;33m=\u001b[0m\u001b[0mdl_manager\u001b[0m\u001b[1;33m,\u001b[0m \u001b[0mverify_infos\u001b[0m\u001b[1;33m=\u001b[0m\u001b[0mverify_infos\u001b[0m\u001b[1;33m,\u001b[0m \u001b[1;33m**\u001b[0m\u001b[0mdownload_and_prepare_kwargs\u001b[0m\u001b[1;33m\u001b[0m\u001b[1;33m\u001b[0m\u001b[0m\n\u001b[0;32m    607\u001b[0m                         )\n",
      "\u001b[1;32m~\\anaconda3\\lib\\site-packages\\datasets\\builder.py\u001b[0m in \u001b[0;36m_download_and_prepare\u001b[1;34m(self, dl_manager, verify_infos, **prepare_split_kwargs)\u001b[0m\n\u001b[0;32m    692\u001b[0m             \u001b[1;32mtry\u001b[0m\u001b[1;33m:\u001b[0m\u001b[1;33m\u001b[0m\u001b[1;33m\u001b[0m\u001b[0m\n\u001b[0;32m    693\u001b[0m                 \u001b[1;31m# Prepare split will record examples associated to the split\u001b[0m\u001b[1;33m\u001b[0m\u001b[1;33m\u001b[0m\u001b[1;33m\u001b[0m\u001b[0m\n\u001b[1;32m--> 694\u001b[1;33m                 \u001b[0mself\u001b[0m\u001b[1;33m.\u001b[0m\u001b[0m_prepare_split\u001b[0m\u001b[1;33m(\u001b[0m\u001b[0msplit_generator\u001b[0m\u001b[1;33m,\u001b[0m \u001b[1;33m**\u001b[0m\u001b[0mprepare_split_kwargs\u001b[0m\u001b[1;33m)\u001b[0m\u001b[1;33m\u001b[0m\u001b[1;33m\u001b[0m\u001b[0m\n\u001b[0m\u001b[0;32m    695\u001b[0m             \u001b[1;32mexcept\u001b[0m \u001b[0mOSError\u001b[0m \u001b[1;32mas\u001b[0m \u001b[0me\u001b[0m\u001b[1;33m:\u001b[0m\u001b[1;33m\u001b[0m\u001b[1;33m\u001b[0m\u001b[0m\n\u001b[0;32m    696\u001b[0m                 raise OSError(\n",
      "\u001b[1;32m~\\anaconda3\\lib\\site-packages\\datasets\\builder.py\u001b[0m in \u001b[0;36m_prepare_split\u001b[1;34m(self, split_generator)\u001b[0m\n\u001b[0;32m   1149\u001b[0m         \u001b[0mgenerator\u001b[0m \u001b[1;33m=\u001b[0m \u001b[0mself\u001b[0m\u001b[1;33m.\u001b[0m\u001b[0m_generate_tables\u001b[0m\u001b[1;33m(\u001b[0m\u001b[1;33m**\u001b[0m\u001b[0msplit_generator\u001b[0m\u001b[1;33m.\u001b[0m\u001b[0mgen_kwargs\u001b[0m\u001b[1;33m)\u001b[0m\u001b[1;33m\u001b[0m\u001b[1;33m\u001b[0m\u001b[0m\n\u001b[0;32m   1150\u001b[0m         \u001b[1;32mwith\u001b[0m \u001b[0mArrowWriter\u001b[0m\u001b[1;33m(\u001b[0m\u001b[0mfeatures\u001b[0m\u001b[1;33m=\u001b[0m\u001b[0mself\u001b[0m\u001b[1;33m.\u001b[0m\u001b[0minfo\u001b[0m\u001b[1;33m.\u001b[0m\u001b[0mfeatures\u001b[0m\u001b[1;33m,\u001b[0m \u001b[0mpath\u001b[0m\u001b[1;33m=\u001b[0m\u001b[0mfpath\u001b[0m\u001b[1;33m)\u001b[0m \u001b[1;32mas\u001b[0m \u001b[0mwriter\u001b[0m\u001b[1;33m:\u001b[0m\u001b[1;33m\u001b[0m\u001b[1;33m\u001b[0m\u001b[0m\n\u001b[1;32m-> 1151\u001b[1;33m             for key, table in logging.tqdm(\n\u001b[0m\u001b[0;32m   1152\u001b[0m                 \u001b[0mgenerator\u001b[0m\u001b[1;33m,\u001b[0m \u001b[0munit\u001b[0m\u001b[1;33m=\u001b[0m\u001b[1;34m\" tables\"\u001b[0m\u001b[1;33m,\u001b[0m \u001b[0mleave\u001b[0m\u001b[1;33m=\u001b[0m\u001b[1;32mFalse\u001b[0m\u001b[1;33m,\u001b[0m \u001b[0mdisable\u001b[0m\u001b[1;33m=\u001b[0m\u001b[1;32mTrue\u001b[0m  \u001b[1;31m# not logging.is_progress_bar_enabled()\u001b[0m\u001b[1;33m\u001b[0m\u001b[1;33m\u001b[0m\u001b[0m\n\u001b[0;32m   1153\u001b[0m             ):\n",
      "\u001b[1;32m~\\anaconda3\\lib\\site-packages\\tqdm\\notebook.py\u001b[0m in \u001b[0;36m__iter__\u001b[1;34m(self)\u001b[0m\n\u001b[0;32m    256\u001b[0m         \u001b[1;32mtry\u001b[0m\u001b[1;33m:\u001b[0m\u001b[1;33m\u001b[0m\u001b[1;33m\u001b[0m\u001b[0m\n\u001b[0;32m    257\u001b[0m             \u001b[0mit\u001b[0m \u001b[1;33m=\u001b[0m \u001b[0msuper\u001b[0m\u001b[1;33m(\u001b[0m\u001b[0mtqdm_notebook\u001b[0m\u001b[1;33m,\u001b[0m \u001b[0mself\u001b[0m\u001b[1;33m)\u001b[0m\u001b[1;33m.\u001b[0m\u001b[0m__iter__\u001b[0m\u001b[1;33m(\u001b[0m\u001b[1;33m)\u001b[0m\u001b[1;33m\u001b[0m\u001b[1;33m\u001b[0m\u001b[0m\n\u001b[1;32m--> 258\u001b[1;33m             \u001b[1;32mfor\u001b[0m \u001b[0mobj\u001b[0m \u001b[1;32min\u001b[0m \u001b[0mit\u001b[0m\u001b[1;33m:\u001b[0m\u001b[1;33m\u001b[0m\u001b[1;33m\u001b[0m\u001b[0m\n\u001b[0m\u001b[0;32m    259\u001b[0m                 \u001b[1;31m# return super(tqdm...) will not catch exception\u001b[0m\u001b[1;33m\u001b[0m\u001b[1;33m\u001b[0m\u001b[1;33m\u001b[0m\u001b[0m\n\u001b[0;32m    260\u001b[0m                 \u001b[1;32myield\u001b[0m \u001b[0mobj\u001b[0m\u001b[1;33m\u001b[0m\u001b[1;33m\u001b[0m\u001b[0m\n",
      "\u001b[1;32m~\\anaconda3\\lib\\site-packages\\tqdm\\std.py\u001b[0m in \u001b[0;36m__iter__\u001b[1;34m(self)\u001b[0m\n\u001b[0;32m   1181\u001b[0m         \u001b[1;31m# (note: keep this check outside the loop for performance)\u001b[0m\u001b[1;33m\u001b[0m\u001b[1;33m\u001b[0m\u001b[1;33m\u001b[0m\u001b[0m\n\u001b[0;32m   1182\u001b[0m         \u001b[1;32mif\u001b[0m \u001b[0mself\u001b[0m\u001b[1;33m.\u001b[0m\u001b[0mdisable\u001b[0m\u001b[1;33m:\u001b[0m\u001b[1;33m\u001b[0m\u001b[1;33m\u001b[0m\u001b[0m\n\u001b[1;32m-> 1183\u001b[1;33m             \u001b[1;32mfor\u001b[0m \u001b[0mobj\u001b[0m \u001b[1;32min\u001b[0m \u001b[0miterable\u001b[0m\u001b[1;33m:\u001b[0m\u001b[1;33m\u001b[0m\u001b[1;33m\u001b[0m\u001b[0m\n\u001b[0m\u001b[0;32m   1184\u001b[0m                 \u001b[1;32myield\u001b[0m \u001b[0mobj\u001b[0m\u001b[1;33m\u001b[0m\u001b[1;33m\u001b[0m\u001b[0m\n\u001b[0;32m   1185\u001b[0m             \u001b[1;32mreturn\u001b[0m\u001b[1;33m\u001b[0m\u001b[1;33m\u001b[0m\u001b[0m\n",
      "\u001b[1;32m~\\anaconda3\\lib\\site-packages\\datasets\\packaged_modules\\csv\\csv.py\u001b[0m in \u001b[0;36m_generate_tables\u001b[1;34m(self, files)\u001b[0m\n\u001b[0;32m    154\u001b[0m             \u001b[0mcsv_file_reader\u001b[0m \u001b[1;33m=\u001b[0m \u001b[0mpd\u001b[0m\u001b[1;33m.\u001b[0m\u001b[0mread_csv\u001b[0m\u001b[1;33m(\u001b[0m\u001b[0mfile\u001b[0m\u001b[1;33m,\u001b[0m \u001b[0miterator\u001b[0m\u001b[1;33m=\u001b[0m\u001b[1;32mTrue\u001b[0m\u001b[1;33m,\u001b[0m \u001b[0mdtype\u001b[0m\u001b[1;33m=\u001b[0m\u001b[0mdtype\u001b[0m\u001b[1;33m,\u001b[0m \u001b[1;33m**\u001b[0m\u001b[0mself\u001b[0m\u001b[1;33m.\u001b[0m\u001b[0mconfig\u001b[0m\u001b[1;33m.\u001b[0m\u001b[0mread_csv_kwargs\u001b[0m\u001b[1;33m)\u001b[0m\u001b[1;33m\u001b[0m\u001b[1;33m\u001b[0m\u001b[0m\n\u001b[0;32m    155\u001b[0m             \u001b[1;32mtry\u001b[0m\u001b[1;33m:\u001b[0m\u001b[1;33m\u001b[0m\u001b[1;33m\u001b[0m\u001b[0m\n\u001b[1;32m--> 156\u001b[1;33m                 \u001b[1;32mfor\u001b[0m \u001b[0mbatch_idx\u001b[0m\u001b[1;33m,\u001b[0m \u001b[0mdf\u001b[0m \u001b[1;32min\u001b[0m \u001b[0menumerate\u001b[0m\u001b[1;33m(\u001b[0m\u001b[0mcsv_file_reader\u001b[0m\u001b[1;33m)\u001b[0m\u001b[1;33m:\u001b[0m\u001b[1;33m\u001b[0m\u001b[1;33m\u001b[0m\u001b[0m\n\u001b[0m\u001b[0;32m    157\u001b[0m                     \u001b[0mpa_table\u001b[0m \u001b[1;33m=\u001b[0m \u001b[0mpa\u001b[0m\u001b[1;33m.\u001b[0m\u001b[0mTable\u001b[0m\u001b[1;33m.\u001b[0m\u001b[0mfrom_pandas\u001b[0m\u001b[1;33m(\u001b[0m\u001b[0mdf\u001b[0m\u001b[1;33m,\u001b[0m \u001b[0mschema\u001b[0m\u001b[1;33m=\u001b[0m\u001b[0mschema\u001b[0m\u001b[1;33m)\u001b[0m\u001b[1;33m\u001b[0m\u001b[1;33m\u001b[0m\u001b[0m\n\u001b[0;32m    158\u001b[0m                     \u001b[1;31m# Uncomment for debugging (will print the Arrow table size and elements)\u001b[0m\u001b[1;33m\u001b[0m\u001b[1;33m\u001b[0m\u001b[1;33m\u001b[0m\u001b[0m\n",
      "\u001b[1;32m~\\anaconda3\\lib\\site-packages\\pandas\\io\\parsers.py\u001b[0m in \u001b[0;36m__next__\u001b[1;34m(self)\u001b[0m\n\u001b[0;32m   1032\u001b[0m     \u001b[1;32mdef\u001b[0m \u001b[0m__next__\u001b[0m\u001b[1;33m(\u001b[0m\u001b[0mself\u001b[0m\u001b[1;33m)\u001b[0m\u001b[1;33m:\u001b[0m\u001b[1;33m\u001b[0m\u001b[1;33m\u001b[0m\u001b[0m\n\u001b[0;32m   1033\u001b[0m         \u001b[1;32mtry\u001b[0m\u001b[1;33m:\u001b[0m\u001b[1;33m\u001b[0m\u001b[1;33m\u001b[0m\u001b[0m\n\u001b[1;32m-> 1034\u001b[1;33m             \u001b[1;32mreturn\u001b[0m \u001b[0mself\u001b[0m\u001b[1;33m.\u001b[0m\u001b[0mget_chunk\u001b[0m\u001b[1;33m(\u001b[0m\u001b[1;33m)\u001b[0m\u001b[1;33m\u001b[0m\u001b[1;33m\u001b[0m\u001b[0m\n\u001b[0m\u001b[0;32m   1035\u001b[0m         \u001b[1;32mexcept\u001b[0m \u001b[0mStopIteration\u001b[0m\u001b[1;33m:\u001b[0m\u001b[1;33m\u001b[0m\u001b[1;33m\u001b[0m\u001b[0m\n\u001b[0;32m   1036\u001b[0m             \u001b[0mself\u001b[0m\u001b[1;33m.\u001b[0m\u001b[0mclose\u001b[0m\u001b[1;33m(\u001b[0m\u001b[1;33m)\u001b[0m\u001b[1;33m\u001b[0m\u001b[1;33m\u001b[0m\u001b[0m\n",
      "\u001b[1;32m~\\anaconda3\\lib\\site-packages\\pandas\\io\\parsers.py\u001b[0m in \u001b[0;36mget_chunk\u001b[1;34m(self, size)\u001b[0m\n\u001b[0;32m   1082\u001b[0m                 \u001b[1;32mraise\u001b[0m \u001b[0mStopIteration\u001b[0m\u001b[1;33m\u001b[0m\u001b[1;33m\u001b[0m\u001b[0m\n\u001b[0;32m   1083\u001b[0m             \u001b[0msize\u001b[0m \u001b[1;33m=\u001b[0m \u001b[0mmin\u001b[0m\u001b[1;33m(\u001b[0m\u001b[0msize\u001b[0m\u001b[1;33m,\u001b[0m \u001b[0mself\u001b[0m\u001b[1;33m.\u001b[0m\u001b[0mnrows\u001b[0m \u001b[1;33m-\u001b[0m \u001b[0mself\u001b[0m\u001b[1;33m.\u001b[0m\u001b[0m_currow\u001b[0m\u001b[1;33m)\u001b[0m\u001b[1;33m\u001b[0m\u001b[1;33m\u001b[0m\u001b[0m\n\u001b[1;32m-> 1084\u001b[1;33m         \u001b[1;32mreturn\u001b[0m \u001b[0mself\u001b[0m\u001b[1;33m.\u001b[0m\u001b[0mread\u001b[0m\u001b[1;33m(\u001b[0m\u001b[0mnrows\u001b[0m\u001b[1;33m=\u001b[0m\u001b[0msize\u001b[0m\u001b[1;33m)\u001b[0m\u001b[1;33m\u001b[0m\u001b[1;33m\u001b[0m\u001b[0m\n\u001b[0m\u001b[0;32m   1085\u001b[0m \u001b[1;33m\u001b[0m\u001b[0m\n\u001b[0;32m   1086\u001b[0m     \u001b[1;32mdef\u001b[0m \u001b[0m__enter__\u001b[0m\u001b[1;33m(\u001b[0m\u001b[0mself\u001b[0m\u001b[1;33m)\u001b[0m\u001b[1;33m:\u001b[0m\u001b[1;33m\u001b[0m\u001b[1;33m\u001b[0m\u001b[0m\n",
      "\u001b[1;32m~\\anaconda3\\lib\\site-packages\\pandas\\io\\parsers.py\u001b[0m in \u001b[0;36mread\u001b[1;34m(self, nrows)\u001b[0m\n\u001b[0;32m   1055\u001b[0m     \u001b[1;32mdef\u001b[0m \u001b[0mread\u001b[0m\u001b[1;33m(\u001b[0m\u001b[0mself\u001b[0m\u001b[1;33m,\u001b[0m \u001b[0mnrows\u001b[0m\u001b[1;33m=\u001b[0m\u001b[1;32mNone\u001b[0m\u001b[1;33m)\u001b[0m\u001b[1;33m:\u001b[0m\u001b[1;33m\u001b[0m\u001b[1;33m\u001b[0m\u001b[0m\n\u001b[0;32m   1056\u001b[0m         \u001b[0mnrows\u001b[0m \u001b[1;33m=\u001b[0m \u001b[0mvalidate_integer\u001b[0m\u001b[1;33m(\u001b[0m\u001b[1;34m\"nrows\"\u001b[0m\u001b[1;33m,\u001b[0m \u001b[0mnrows\u001b[0m\u001b[1;33m)\u001b[0m\u001b[1;33m\u001b[0m\u001b[1;33m\u001b[0m\u001b[0m\n\u001b[1;32m-> 1057\u001b[1;33m         \u001b[0mindex\u001b[0m\u001b[1;33m,\u001b[0m \u001b[0mcolumns\u001b[0m\u001b[1;33m,\u001b[0m \u001b[0mcol_dict\u001b[0m \u001b[1;33m=\u001b[0m \u001b[0mself\u001b[0m\u001b[1;33m.\u001b[0m\u001b[0m_engine\u001b[0m\u001b[1;33m.\u001b[0m\u001b[0mread\u001b[0m\u001b[1;33m(\u001b[0m\u001b[0mnrows\u001b[0m\u001b[1;33m)\u001b[0m\u001b[1;33m\u001b[0m\u001b[1;33m\u001b[0m\u001b[0m\n\u001b[0m\u001b[0;32m   1058\u001b[0m \u001b[1;33m\u001b[0m\u001b[0m\n\u001b[0;32m   1059\u001b[0m         \u001b[1;32mif\u001b[0m \u001b[0mindex\u001b[0m \u001b[1;32mis\u001b[0m \u001b[1;32mNone\u001b[0m\u001b[1;33m:\u001b[0m\u001b[1;33m\u001b[0m\u001b[1;33m\u001b[0m\u001b[0m\n",
      "\u001b[1;32m~\\anaconda3\\lib\\site-packages\\pandas\\io\\parsers.py\u001b[0m in \u001b[0;36mread\u001b[1;34m(self, nrows)\u001b[0m\n\u001b[0;32m   2059\u001b[0m     \u001b[1;32mdef\u001b[0m \u001b[0mread\u001b[0m\u001b[1;33m(\u001b[0m\u001b[0mself\u001b[0m\u001b[1;33m,\u001b[0m \u001b[0mnrows\u001b[0m\u001b[1;33m=\u001b[0m\u001b[1;32mNone\u001b[0m\u001b[1;33m)\u001b[0m\u001b[1;33m:\u001b[0m\u001b[1;33m\u001b[0m\u001b[1;33m\u001b[0m\u001b[0m\n\u001b[0;32m   2060\u001b[0m         \u001b[1;32mtry\u001b[0m\u001b[1;33m:\u001b[0m\u001b[1;33m\u001b[0m\u001b[1;33m\u001b[0m\u001b[0m\n\u001b[1;32m-> 2061\u001b[1;33m             \u001b[0mdata\u001b[0m \u001b[1;33m=\u001b[0m \u001b[0mself\u001b[0m\u001b[1;33m.\u001b[0m\u001b[0m_reader\u001b[0m\u001b[1;33m.\u001b[0m\u001b[0mread\u001b[0m\u001b[1;33m(\u001b[0m\u001b[0mnrows\u001b[0m\u001b[1;33m)\u001b[0m\u001b[1;33m\u001b[0m\u001b[1;33m\u001b[0m\u001b[0m\n\u001b[0m\u001b[0;32m   2062\u001b[0m         \u001b[1;32mexcept\u001b[0m \u001b[0mStopIteration\u001b[0m\u001b[1;33m:\u001b[0m\u001b[1;33m\u001b[0m\u001b[1;33m\u001b[0m\u001b[0m\n\u001b[0;32m   2063\u001b[0m             \u001b[1;32mif\u001b[0m \u001b[0mself\u001b[0m\u001b[1;33m.\u001b[0m\u001b[0m_first_chunk\u001b[0m\u001b[1;33m:\u001b[0m\u001b[1;33m\u001b[0m\u001b[1;33m\u001b[0m\u001b[0m\n",
      "\u001b[1;32mpandas\\_libs\\parsers.pyx\u001b[0m in \u001b[0;36mpandas._libs.parsers.TextReader.read\u001b[1;34m()\u001b[0m\n",
      "\u001b[1;32mpandas\\_libs\\parsers.pyx\u001b[0m in \u001b[0;36mpandas._libs.parsers.TextReader._read_low_memory\u001b[1;34m()\u001b[0m\n",
      "\u001b[1;32mpandas\\_libs\\parsers.pyx\u001b[0m in \u001b[0;36mpandas._libs.parsers.TextReader._read_rows\u001b[1;34m()\u001b[0m\n",
      "\u001b[1;32mpandas\\_libs\\parsers.pyx\u001b[0m in \u001b[0;36mpandas._libs.parsers.TextReader._tokenize_rows\u001b[1;34m()\u001b[0m\n",
      "\u001b[1;32mpandas\\_libs\\parsers.pyx\u001b[0m in \u001b[0;36mpandas._libs.parsers.raise_parser_error\u001b[1;34m()\u001b[0m\n",
      "\u001b[1;31mParserError\u001b[0m: Error tokenizing data. C error: Expected 1 fields in line 114, saw 2\n"
     ]
    }
   ],
   "source": [
    "ecotrain = datasets.load_dataset('csv', data_files='C:\\\\Users\\\\lalog_000\\\\Desktop\\\\MIM\\\\ecotrain.csv')"
   ]
  },
  {
   "cell_type": "markdown",
   "id": "73eec291",
   "metadata": {},
   "source": [
    "Primer inconveniente, no logro usar las funciones de la biblioteca datasets al no poder solucionar el problema se opta por prescindir de este.   Se cargan los CSV ecotrain y ecotest"
   ]
  },
  {
   "cell_type": "code",
   "execution_count": 6,
   "id": "668d7707",
   "metadata": {},
   "outputs": [],
   "source": [
    "ecotrain= pd.read_csv(\"C:\\\\Users\\\\lalog_000\\\\Desktop\\\\MIM\\\\ecotrain.csv\", sep=\";\")"
   ]
  },
  {
   "cell_type": "code",
   "execution_count": 7,
   "id": "03acc76e",
   "metadata": {},
   "outputs": [],
   "source": [
    "ecotest = pd.read_csv(\"C:\\\\Users\\\\lalog_000\\\\Desktop\\\\MIM\\\\ecotest.csv\", sep=\";\")"
   ]
  },
  {
   "cell_type": "code",
   "execution_count": 8,
   "id": "f0a67d51",
   "metadata": {
    "scrolled": true
   },
   "outputs": [
    {
     "name": "stdout",
     "output_type": "stream",
     "text": [
      "    label                                              texto\n",
      "0       1  Espacio vitreo con moderada celularidad.\\n\\t\\t...\n",
      "1       0  Vitreo claro\\n\\t\\tDVP completo\\n\\t\\tRetina apl...\n",
      "2       1  Vitreo claro sin celularidad\\n\\t\\t\\tDVP (-)\\n\\...\n",
      "3       1  Ojo vitrectomizado. remanentes vitreos en peri...\n",
      "4       1  Ojo Vitrectomizado\\n\\tHemorragia vitrea modera...\n",
      "..    ...                                                ...\n",
      "85      0  Vitreo claro\\n\\t\\tDVP completo\\n\\t\\tRetina apl...\n",
      "86      1  Hialosis Asteroidal\\n\\n\\t\\tDVP Parcial . Adher...\n",
      "87      1  Ojo Vitrectomizado\\n\\tEspacio vitreo claro\\t\\n...\n",
      "88      1  Ojo Vitrectomizado\\n\\tCamara Vitrea ocupada po...\n",
      "89      0  Vitreo claro\\n\\t\\tDVP completo\\n\\t\\tRetina apl...\n",
      "\n",
      "[90 rows x 2 columns]\n"
     ]
    }
   ],
   "source": [
    "print(ecotrain)"
   ]
  },
  {
   "cell_type": "code",
   "execution_count": 9,
   "id": "67a0c6e5",
   "metadata": {},
   "outputs": [
    {
     "data": {
      "text/plain": [
       "(90, 2)"
      ]
     },
     "execution_count": 9,
     "metadata": {},
     "output_type": "execute_result"
    }
   ],
   "source": [
    "ecotrain.shape"
   ]
  },
  {
   "cell_type": "code",
   "execution_count": 10,
   "id": "968f03fc",
   "metadata": {},
   "outputs": [
    {
     "data": {
      "text/plain": [
       "(32, 2)"
      ]
     },
     "execution_count": 10,
     "metadata": {},
     "output_type": "execute_result"
    }
   ],
   "source": [
    "ecotest.shape"
   ]
  },
  {
   "cell_type": "markdown",
   "id": "673d3d11",
   "metadata": {},
   "source": [
    "Para comenzar se pasa el texto a minuscula"
   ]
  },
  {
   "cell_type": "code",
   "execution_count": 11,
   "id": "dad8f80b",
   "metadata": {},
   "outputs": [],
   "source": [
    "ecotrain_lower = ecotrain[\"texto\"].str.lower()"
   ]
  },
  {
   "cell_type": "code",
   "execution_count": 12,
   "id": "0eeb90e7",
   "metadata": {
    "scrolled": true
   },
   "outputs": [
    {
     "name": "stdout",
     "output_type": "stream",
     "text": [
      "0     espacio vitreo con moderada celularidad.\\n\\t\\t...\n",
      "1     vitreo claro\\n\\t\\tdvp completo\\n\\t\\tretina apl...\n",
      "2     vitreo claro sin celularidad\\n\\t\\t\\tdvp (-)\\n\\...\n",
      "3     ojo vitrectomizado. remanentes vitreos en peri...\n",
      "4     ojo vitrectomizado\\n\\themorragia vitrea modera...\n",
      "                            ...                        \n",
      "85    vitreo claro\\n\\t\\tdvp completo\\n\\t\\tretina apl...\n",
      "86    hialosis asteroidal\\n\\n\\t\\tdvp parcial . adher...\n",
      "87    ojo vitrectomizado\\n\\tespacio vitreo claro\\t\\n...\n",
      "88    ojo vitrectomizado\\n\\tcamara vitrea ocupada po...\n",
      "89    vitreo claro\\n\\t\\tdvp completo\\n\\t\\tretina apl...\n",
      "Name: texto, Length: 90, dtype: object\n"
     ]
    }
   ],
   "source": [
    "print(ecotrain_lower)"
   ]
  },
  {
   "cell_type": "markdown",
   "id": "4b606b89",
   "metadata": {},
   "source": [
    "Se eliminan simbolos usando expresiones regulares"
   ]
  },
  {
   "cell_type": "code",
   "execution_count": 13,
   "id": "25f850f0",
   "metadata": {},
   "outputs": [],
   "source": [
    "import matplotlib.pyplot as plt\n",
    "from wordcloud import WordCloud"
   ]
  },
  {
   "cell_type": "code",
   "execution_count": null,
   "id": "5e6fc29f",
   "metadata": {},
   "outputs": [],
   "source": []
  },
  {
   "cell_type": "code",
   "execution_count": 14,
   "id": "90d6b69d",
   "metadata": {},
   "outputs": [],
   "source": [
    "\n",
    "ecotrain_replace = ecotrain_lower.str.replace('[^A-Za-zñáéíóú]', \" \", case = False, regex = True)"
   ]
  },
  {
   "cell_type": "code",
   "execution_count": 15,
   "id": "b215ef45",
   "metadata": {
    "scrolled": true
   },
   "outputs": [
    {
     "name": "stdout",
     "output_type": "stream",
     "text": [
      "0     espacio vitreo con moderada celularidad       ...\n",
      "1     vitreo claro   dvp completo   retina aplicada ...\n",
      "2     vitreo claro sin celularidad    dvp        ret...\n",
      "3     ojo vitrectomizado  remanentes vitreos en peri...\n",
      "4     ojo vitrectomizado  hemorragia vitrea moderada...\n",
      "                            ...                        \n",
      "85    vitreo claro   dvp completo   retina aplicada ...\n",
      "86    hialosis asteroidal    dvp parcial   adherenci...\n",
      "87    ojo vitrectomizado  espacio vitreo claro   ret...\n",
      "88    ojo vitrectomizado  camara vitrea ocupada por ...\n",
      "89    vitreo claro   dvp completo   retina aplicada ...\n",
      "Name: texto, Length: 90, dtype: object\n"
     ]
    }
   ],
   "source": [
    "print(ecotrain_replace)"
   ]
  },
  {
   "cell_type": "markdown",
   "id": "cf19e921",
   "metadata": {},
   "source": [
    "se eliminan los tildes"
   ]
  },
  {
   "cell_type": "code",
   "execution_count": 16,
   "id": "e141e18c",
   "metadata": {},
   "outputs": [],
   "source": [
    "x = ecotrain_replace.str.replace('á', \"a\")\n",
    "x = x.str.replace('é', \"e\")\n",
    "x = x.str.replace('í', \"i\")\n",
    "x = x.str.replace('ó', \"o\")\n",
    "ecotrain_normalizadas = x.str.replace('ú', \"u\")"
   ]
  },
  {
   "cell_type": "code",
   "execution_count": 17,
   "id": "23748404",
   "metadata": {},
   "outputs": [
    {
     "name": "stdout",
     "output_type": "stream",
     "text": [
      "0     espacio vitreo con moderada celularidad       ...\n",
      "1     vitreo claro   dvp completo   retina aplicada ...\n",
      "2     vitreo claro sin celularidad    dvp        ret...\n",
      "3     ojo vitrectomizado  remanentes vitreos en peri...\n",
      "4     ojo vitrectomizado  hemorragia vitrea moderada...\n",
      "                            ...                        \n",
      "85    vitreo claro   dvp completo   retina aplicada ...\n",
      "86    hialosis asteroidal    dvp parcial   adherenci...\n",
      "87    ojo vitrectomizado  espacio vitreo claro   ret...\n",
      "88    ojo vitrectomizado  camara vitrea ocupada por ...\n",
      "89    vitreo claro   dvp completo   retina aplicada ...\n",
      "Name: texto, Length: 90, dtype: object\n"
     ]
    }
   ],
   "source": [
    "print(ecotrain_normalizadas)"
   ]
  },
  {
   "cell_type": "code",
   "execution_count": 18,
   "id": "b1dc12d1",
   "metadata": {},
   "outputs": [],
   "source": [
    "tokenizer = tokenizers.Tokenizer(tokenizers.models.WordPiece())  ##Tampoco funciona biblioteca tokenizers🤗👎"
   ]
  },
  {
   "cell_type": "code",
   "execution_count": 19,
   "id": "721de676",
   "metadata": {
    "scrolled": true
   },
   "outputs": [
    {
     "data": {
      "image/png": "[encoded data removed]",
      "text/plain": [
       "<Figure size 432x288 with 1 Axes>"
      ]
     },
     "metadata": {
      "needs_background": "light"
     },
     "output_type": "display_data"
    }
   ],
   "source": [
    "def sumar_lista(lista):\n",
    "    suma=\"\"\n",
    "    for i in lista:\n",
    "        suma += i\n",
    "    return suma    \n",
    "    \n",
    "texto = sumar_lista(ecotrain_normalizadas) \n",
    "\n",
    "texto = \" \".join(texto.split())\n",
    "\n",
    "wordcloud = WordCloud().generate(texto)\n",
    "plt.imshow(wordcloud)\n",
    "plt.axis(\"off\")\n",
    "plt.show()"
   ]
  },
  {
   "cell_type": "code",
   "execution_count": 20,
   "id": "46b29a26",
   "metadata": {},
   "outputs": [],
   "source": [
    "spacy_tokenizer = es_core_news_sm.load().tokenizer    ## usamos este método de la libreria spacy "
   ]
  },
  {
   "cell_type": "code",
   "execution_count": 21,
   "id": "5e3d27e7",
   "metadata": {},
   "outputs": [],
   "source": [
    "ecotrain_tokenizadas = ecotrain_normalizadas  "
   ]
  },
  {
   "cell_type": "code",
   "execution_count": 22,
   "id": "a8b258ad",
   "metadata": {},
   "outputs": [],
   "source": [
    "for i in range(0,90):\n",
    "    ecotrain_tokenizadas[i] = list(spacy_tokenizer(ecotrain_tokenizadas[i])) ## generamos una tokenización para todos los datos"
   ]
  },
  {
   "cell_type": "code",
   "execution_count": 23,
   "id": "69eeafbc",
   "metadata": {},
   "outputs": [
    {
     "name": "stdout",
     "output_type": "stream",
     "text": [
      "0     [espacio, vitreo, con, moderada, celularidad, ...\n",
      "1     [vitreo, claro,   , dvp, completo,   , retina,...\n",
      "2     [vitreo, claro, sin, celularidad,    , dvp,   ...\n",
      "3     [ojo, vitrectomizado,  , remanentes, vitreos, ...\n",
      "4     [ojo, vitrectomizado,  , hemorragia, vitrea, m...\n",
      "                            ...                        \n",
      "85    [vitreo, claro,   , dvp, completo,   , retina,...\n",
      "86    [hialosis, asteroidal,    , dvp, parcial,   , ...\n",
      "87    [ojo, vitrectomizado,  , espacio, vitreo, clar...\n",
      "88    [ojo, vitrectomizado,  , camara, vitrea, ocupa...\n",
      "89    [vitreo, claro,   , dvp, completo,   , retina,...\n",
      "Name: texto, Length: 90, dtype: object\n"
     ]
    }
   ],
   "source": [
    "print(ecotrain_tokenizadas)"
   ]
  },
  {
   "cell_type": "code",
   "execution_count": null,
   "id": "73aef44f",
   "metadata": {},
   "outputs": [],
   "source": []
  },
  {
   "cell_type": "code",
   "execution_count": 24,
   "id": "b36c5267",
   "metadata": {},
   "outputs": [
    {
     "data": {
      "text/plain": [
       "pandas.core.series.Series"
      ]
     },
     "execution_count": 24,
     "metadata": {},
     "output_type": "execute_result"
    }
   ],
   "source": [
    "etiquetas = ecotrain[\"label\"]\n",
    "type(etiquetas)"
   ]
  },
  {
   "cell_type": "code",
   "execution_count": 25,
   "id": "781023cf",
   "metadata": {},
   "outputs": [
    {
     "name": "stdout",
     "output_type": "stream",
     "text": [
      "0     Espacio vitreo con moderada celularidad.\\n\\t\\t...\n",
      "1     Vitreo claro\\n\\t\\tDVP completo\\n\\t\\tRetina apl...\n",
      "2     Vitreo claro sin celularidad\\n\\t\\t\\tDVP (-)\\n\\...\n",
      "3     Ojo vitrectomizado. remanentes vitreos en peri...\n",
      "4     Ojo Vitrectomizado\\n\\tHemorragia vitrea modera...\n",
      "                            ...                        \n",
      "85    Vitreo claro\\n\\t\\tDVP completo\\n\\t\\tRetina apl...\n",
      "86    Hialosis Asteroidal\\n\\n\\t\\tDVP Parcial . Adher...\n",
      "87    Ojo Vitrectomizado\\n\\tEspacio vitreo claro\\t\\n...\n",
      "88    Ojo Vitrectomizado\\n\\tCamara Vitrea ocupada po...\n",
      "89    Vitreo claro\\n\\t\\tDVP completo\\n\\t\\tRetina apl...\n",
      "Name: texto, Length: 90, dtype: object\n"
     ]
    }
   ],
   "source": [
    "ecografias_normalizadas = ecotrain[\"texto\"]\n",
    "print(ecografias_normalizadas)"
   ]
  },
  {
   "cell_type": "code",
   "execution_count": 172,
   "id": "71c68eb3",
   "metadata": {},
   "outputs": [
    {
     "data": {
      "image/png": "[encoded data removed]",
      "text/plain": [
       "<Figure size 432x288 with 1 Axes>"
      ]
     },
     "metadata": {
      "needs_background": "light"
     },
     "output_type": "display_data"
    }
   ],
   "source": [
    "texto2 = sumar_lista(ecografias_normalizadas) \n",
    "wordcloud = WordCloud().generate(texto2)\n",
    "plt.imshow(wordcloud)\n",
    "plt.axis(\"off\")\n",
    "plt.show()"
   ]
  },
  {
   "cell_type": "code",
   "execution_count": 26,
   "id": "24e461d9",
   "metadata": {
    "scrolled": true
   },
   "outputs": [],
   "source": [
    "etiquetados = pd.DataFrame()\n",
    "etiquetados[\"etiquetas\"] = etiquetas\n",
    "etiquetados[\"texto\"]= ecografias_normalizadas   ## reponemos las etiquetas"
   ]
  },
  {
   "cell_type": "code",
   "execution_count": 27,
   "id": "d8dc677c",
   "metadata": {},
   "outputs": [
    {
     "name": "stdout",
     "output_type": "stream",
     "text": [
      "    etiquetas                                              texto\n",
      "0           1  Espacio vitreo con moderada celularidad.\\n\\t\\t...\n",
      "1           0  Vitreo claro\\n\\t\\tDVP completo\\n\\t\\tRetina apl...\n",
      "2           1  Vitreo claro sin celularidad\\n\\t\\t\\tDVP (-)\\n\\...\n",
      "3           1  Ojo vitrectomizado. remanentes vitreos en peri...\n",
      "4           1  Ojo Vitrectomizado\\n\\tHemorragia vitrea modera...\n",
      "..        ...                                                ...\n",
      "85          0  Vitreo claro\\n\\t\\tDVP completo\\n\\t\\tRetina apl...\n",
      "86          1  Hialosis Asteroidal\\n\\n\\t\\tDVP Parcial . Adher...\n",
      "87          1  Ojo Vitrectomizado\\n\\tEspacio vitreo claro\\t\\n...\n",
      "88          1  Ojo Vitrectomizado\\n\\tCamara Vitrea ocupada po...\n",
      "89          0  Vitreo claro\\n\\t\\tDVP completo\\n\\t\\tRetina apl...\n",
      "\n",
      "[90 rows x 2 columns]\n"
     ]
    }
   ],
   "source": [
    "print(etiquetados)"
   ]
  },
  {
   "cell_type": "markdown",
   "id": "161a7e3d",
   "metadata": {},
   "source": [
    "# Representacion de documentos"
   ]
  },
  {
   "cell_type": "code",
   "execution_count": 28,
   "id": "65f155d2",
   "metadata": {},
   "outputs": [],
   "source": [
    "import sklearn.feature_extraction\n",
    "import sklearn.naive_bayes\n",
    "import sklearn.metrics\n",
    "import sklearn.pipeline\n",
    "import sklearn.model_selection\n",
    "import numpy as np \n",
    "import spacy.lang.es               ## exportamos bibliotecas necesarias"
   ]
  },
  {
   "cell_type": "code",
   "execution_count": 29,
   "id": "870222ff",
   "metadata": {},
   "outputs": [],
   "source": [
    "stopwords = spacy.lang.es.stop_words.STOP_WORDS  ## Stop words, de la Biblioteca spaCy"
   ]
  },
  {
   "cell_type": "code",
   "execution_count": 30,
   "id": "d093cbe2",
   "metadata": {},
   "outputs": [],
   "source": [
    "tfidf_vectorizer = sklearn.feature_extraction.text.TfidfVectorizer(\n",
    "    stop_words = stopwords,\n",
    "    \n",
    ")\n",
    "## se ocupa un vectorizador basado en tf-idf , no se eliminan palabras"
   ]
  },
  {
   "cell_type": "code",
   "execution_count": 31,
   "id": "525f1173",
   "metadata": {
    "scrolled": false
   },
   "outputs": [
    {
     "data": {
      "text/plain": [
       "TfidfVectorizer(stop_words={'actualmente', 'acuerdo', 'adelante', 'ademas',\n",
       "                            'además', 'adrede', 'afirmó', 'agregó', 'ahi',\n",
       "                            'ahora', 'ahí', 'al', 'algo', 'alguna', 'algunas',\n",
       "                            'alguno', 'algunos', 'algún', 'alli', 'allí',\n",
       "                            'alrededor', 'ambos', 'ampleamos', 'antano',\n",
       "                            'antaño', 'ante', 'anterior', 'antes', 'apenas',\n",
       "                            'aproximadamente', ...})"
      ]
     },
     "execution_count": 31,
     "metadata": {},
     "output_type": "execute_result"
    }
   ],
   "source": [
    "tfidf_vectorizer.fit(etiquetados[\"texto\"])    ## el ajuste se realiza con los textos normalizados "
   ]
  },
  {
   "cell_type": "code",
   "execution_count": 32,
   "id": "1f8cf934",
   "metadata": {},
   "outputs": [],
   "source": [
    "feature_names = list({k: v for k, v in sorted(tfidf_vectorizer.vocabulary_.items(), key=lambda item: item[1])}.keys())"
   ]
  },
  {
   "cell_type": "code",
   "execution_count": 33,
   "id": "e165f912",
   "metadata": {},
   "outputs": [
    {
     "name": "stdout",
     "output_type": "stream",
     "text": [
      "['10', '11', '12', '37', '4mm', 'abundante', 'aceite', 'acumulación', 'acustica', 'acusticamenta', 'acusticamente', 'acústica', 'acústicamente', 'adelgazadas', 'adelgazamientoi', 'adherencia', 'adherenciaen', 'adherencias', 'adherido', 'adjunta', 'alta', 'altamente', 'altura', 'antigua', 'aplicada', 'aprox', 'aspecto', 'asteroidal', 'aumentada', 'axial', 'base', 'cabeza', 'calculo', 'camara', 'cambios', 'casos', 'cavidad', 'ceio', 'celularidad', 'clara', 'claridad', 'claros', 'coagulo', 'colapso', 'coleccion', 'compatible', 'completa', 'completo', 'constata', 'contacto', 'continuidad', 'contrtol', 'corioides', 'coroidea', 'coroideo', 'coroideos', 'coroides', 'coroiditis', 'corresponde', 'corresponder', 'crece', 'crónico', 'cuadrante', 'cuadrantes', 'cuadrantre', 'cuadro', 'cuantia', 'cuantificarla', 'cuantía', 'cudrantes', 'cuerpociliar', 'cuerpos', 'cámara', 'delgada', 'densa', 'desgarro', 'desprendimiento', 'desprendimientos', 'detalles', 'determina', 'determinar', 'dificil', 'difusa', 'discreta', 'discreto', 'distingue', 'distribuida', 'distribuye', 'dr', 'drusa', 'dvp', 'eco', 'ecogenicidad', 'ecografico', 'edema', 'emulsificada', 'endoftalmitis', 'engroasada', 'engrosada', 'engrosamiento', 'escasa', 'espacio', 'especialmente', 'estafilomas', 'estructura', 'estructuras', 'evaluable', 'evaluado', 'evaluar', 'evidenciable', 'evidente', 'examen', 'excavacion', 'excavación', 'excavada', 'extensa', 'extrema', 'fenomenos', 'fibrosis', 'fibrovascular', 'forma', 'formacion', 'gigante', 'grosor', 'gruesa', 'hematoglobo', 'hemorragia', 'hemorragico', 'hemorrgia', 'hialoideo', 'hialoides', 'hialosis', 'hiperecogénica', 'hiperecogénicas', 'hipotónico', 'homogenea', 'homogeneamente', 'hv', 'identifica', 'identifico', 'imagen', 'implante', 'importante', 'impresiona', 'inferior', 'intensa', 'intenso', 'invaginado', 'itreo', 'kissing', 'lesion', 'lesiones', 'lesión', 'leve', 'levemente', 'limitada', 'lio', 'liquido', 'localizadas', 'localizado', 'logra', 'logran', 'logro', 'líquido', 'macula', 'macular', 'mayores', 'membrana', 'mide', 'mm', 'moderada', 'momenmto', 'moviles', 'movilidad', 'multiples', 'múltiples', 'nasal', 'neoproliferacion', 'nervio', 'nevo', 'nivel', 'normal', 'notoria', 'notoriamente', 'objeto', 'observa', 'observan', 'obstante', 'ocular', 'ocupada', 'ocupado', 'od', 'ojo', 'on', 'optico', 'ora', 'organizada', 'papila', 'papilar', 'parcial', 'pared', 'penacho', 'pequeña', 'perdida', 'periferia', 'periocular', 'permite', 'plana', 'plano', 'polo', 'posterior', 'pre', 'presencia', 'probablemente', 'profundidad', 'proximidad', 'proyectan', 'pseudoquistes', 'ptisis', 'remanentes', 'rertina', 'resolución', 'retina', 'retinal', 'sangre', 'sectores', 'semanas', 'separado', 'serohematicos', 'seroso', 'serrata', 'seudomembranas', 'signos', 'silicona', 'solucion', 'sombra', 'spacio', 'sub', 'subhialoidea', 'subhialoideo', 'subretinal', 'subretiniano', 'sugiero', 'superior', 'supero', 'superoior', 'temporal', 'temporales', 'temportal', 'tipo', 'todoas', 'traccion', 'tracción', 'tubo', 'tubular', 'tumores', 'turbia', 'turbidez', 'turbio', 'uniformemente', 'valvula', 've', 'ven', 'veo', 'visible', 'vitrea', 'vitrectomizado', 'vitreo', 'vitreos', 'vr', 'zonas', 'óptico']\n"
     ]
    }
   ],
   "source": [
    "print(feature_names)"
   ]
  },
  {
   "cell_type": "code",
   "execution_count": 35,
   "id": "7902d5ec",
   "metadata": {},
   "outputs": [
    {
     "data": {
      "text/plain": [
       "list"
      ]
     },
     "execution_count": 35,
     "metadata": {},
     "output_type": "execute_result"
    }
   ],
   "source": [
    "type(feature_names)"
   ]
  },
  {
   "cell_type": "code",
   "execution_count": 38,
   "id": "16e23e2f",
   "metadata": {},
   "outputs": [],
   "source": [
    "vectorizado_train = tfidf_vectorizer.transform(ecotrain[\"texto\"])\n",
    "vectorizado_test = tfidf_vectorizer.transform(ecotest[\"texto\"])         ## se vectoriza con la funcion transform el grupo de train y de test"
   ]
  },
  {
   "cell_type": "code",
   "execution_count": 39,
   "id": "b445b6f3",
   "metadata": {},
   "outputs": [
    {
     "data": {
      "text/plain": [
       "(90, 272)"
      ]
     },
     "execution_count": 39,
     "metadata": {},
     "output_type": "execute_result"
    }
   ],
   "source": [
    "vectorizado_train.shape\n"
   ]
  },
  {
   "cell_type": "code",
   "execution_count": 40,
   "id": "4e9bc0b5",
   "metadata": {},
   "outputs": [
    {
     "name": "stdout",
     "output_type": "stream",
     "text": [
      "TfidfVectorizer(stop_words={'actualmente', 'acuerdo', 'adelante', 'ademas',\n",
      "                            'además', 'adrede', 'afirmó', 'agregó', 'ahi',\n",
      "                            'ahora', 'ahí', 'al', 'algo', 'alguna', 'algunas',\n",
      "                            'alguno', 'algunos', 'algún', 'alli', 'allí',\n",
      "                            'alrededor', 'ambos', 'ampleamos', 'antano',\n",
      "                            'antaño', 'ante', 'anterior', 'antes', 'apenas',\n",
      "                            'aproximadamente', ...})\n"
     ]
    }
   ],
   "source": [
    "print(tfidf_vectorizer)\n",
    "\n"
   ]
  },
  {
   "cell_type": "markdown",
   "id": "5441878c",
   "metadata": {},
   "source": [
    "# Naive Bayes"
   ]
  },
  {
   "cell_type": "code",
   "execution_count": 41,
   "id": "ed596593",
   "metadata": {},
   "outputs": [
    {
     "data": {
      "text/plain": [
       "MultinomialNB()"
      ]
     },
     "execution_count": 41,
     "metadata": {},
     "output_type": "execute_result"
    }
   ],
   "source": [
    "clasificador = sklearn.naive_bayes.MultinomialNB()\n",
    "clasificador.fit(vectorizado_train,ecotrain[\"label\"])   ##instanciar funcion y realizar ajustes"
   ]
  },
  {
   "cell_type": "code",
   "execution_count": 42,
   "id": "0c8339ff",
   "metadata": {},
   "outputs": [],
   "source": [
    "log_probability = pd.DataFrame(clasificador.feature_log_prob_.T, index = feature_names)   ## comparamos palabras mas importantes"
   ]
  },
  {
   "cell_type": "code",
   "execution_count": 43,
   "id": "3e30511e",
   "metadata": {},
   "outputs": [
    {
     "data": {
      "text/html": [
       "<div>\n",
       "<style scoped>\n",
       "    .dataframe tbody tr th:only-of-type {\n",
       "        vertical-align: middle;\n",
       "    }\n",
       "\n",
       "    .dataframe tbody tr th {\n",
       "        vertical-align: top;\n",
       "    }\n",
       "\n",
       "    .dataframe thead th {\n",
       "        text-align: right;\n",
       "    }\n",
       "</style>\n",
       "<table border=\"1\" class=\"dataframe\">\n",
       "  <thead>\n",
       "    <tr style=\"text-align: right;\">\n",
       "      <th></th>\n",
       "      <th>0</th>\n",
       "      <th>1</th>\n",
       "    </tr>\n",
       "  </thead>\n",
       "  <tbody>\n",
       "    <tr>\n",
       "      <th>hemorragia</th>\n",
       "      <td>-5.906786</td>\n",
       "      <td>-4.356034</td>\n",
       "    </tr>\n",
       "    <tr>\n",
       "      <th>nervio</th>\n",
       "      <td>-4.994752</td>\n",
       "      <td>-4.402148</td>\n",
       "    </tr>\n",
       "    <tr>\n",
       "      <th>vitrea</th>\n",
       "      <td>-5.533888</td>\n",
       "      <td>-4.428501</td>\n",
       "    </tr>\n",
       "    <tr>\n",
       "      <th>retina</th>\n",
       "      <td>-3.827331</td>\n",
       "      <td>-4.436741</td>\n",
       "    </tr>\n",
       "    <tr>\n",
       "      <th>aplicada</th>\n",
       "      <td>-3.808796</td>\n",
       "      <td>-4.468490</td>\n",
       "    </tr>\n",
       "    <tr>\n",
       "      <th>...</th>\n",
       "      <td>...</td>\n",
       "      <td>...</td>\n",
       "    </tr>\n",
       "    <tr>\n",
       "      <th>od</th>\n",
       "      <td>-5.588591</td>\n",
       "      <td>-6.201457</td>\n",
       "    </tr>\n",
       "    <tr>\n",
       "      <th>obstante</th>\n",
       "      <td>-5.588591</td>\n",
       "      <td>-6.201457</td>\n",
       "    </tr>\n",
       "    <tr>\n",
       "      <th>excavada</th>\n",
       "      <td>-5.588591</td>\n",
       "      <td>-6.201457</td>\n",
       "    </tr>\n",
       "    <tr>\n",
       "      <th>cuantificarla</th>\n",
       "      <td>-5.292493</td>\n",
       "      <td>-6.201457</td>\n",
       "    </tr>\n",
       "    <tr>\n",
       "      <th>rertina</th>\n",
       "      <td>-5.090555</td>\n",
       "      <td>-6.201457</td>\n",
       "    </tr>\n",
       "  </tbody>\n",
       "</table>\n",
       "<p>272 rows × 2 columns</p>\n",
       "</div>"
      ],
      "text/plain": [
       "                      0         1\n",
       "hemorragia    -5.906786 -4.356034\n",
       "nervio        -4.994752 -4.402148\n",
       "vitrea        -5.533888 -4.428501\n",
       "retina        -3.827331 -4.436741\n",
       "aplicada      -3.808796 -4.468490\n",
       "...                 ...       ...\n",
       "od            -5.588591 -6.201457\n",
       "obstante      -5.588591 -6.201457\n",
       "excavada      -5.588591 -6.201457\n",
       "cuantificarla -5.292493 -6.201457\n",
       "rertina       -5.090555 -6.201457\n",
       "\n",
       "[272 rows x 2 columns]"
      ]
     },
     "execution_count": 43,
     "metadata": {},
     "output_type": "execute_result"
    }
   ],
   "source": [
    "log_probability.sort_values(1,ascending=False)  ## hemorragia vitrea es típicamente patológico"
   ]
  },
  {
   "cell_type": "code",
   "execution_count": 44,
   "id": "e7c1b0ce",
   "metadata": {},
   "outputs": [
    {
     "data": {
      "text/html": [
       "<div>\n",
       "<style scoped>\n",
       "    .dataframe tbody tr th:only-of-type {\n",
       "        vertical-align: middle;\n",
       "    }\n",
       "\n",
       "    .dataframe tbody tr th {\n",
       "        vertical-align: top;\n",
       "    }\n",
       "\n",
       "    .dataframe thead th {\n",
       "        text-align: right;\n",
       "    }\n",
       "</style>\n",
       "<table border=\"1\" class=\"dataframe\">\n",
       "  <thead>\n",
       "    <tr style=\"text-align: right;\">\n",
       "      <th></th>\n",
       "      <th>0</th>\n",
       "      <th>1</th>\n",
       "    </tr>\n",
       "  </thead>\n",
       "  <tbody>\n",
       "    <tr>\n",
       "      <th>vitreo</th>\n",
       "      <td>-3.535176</td>\n",
       "      <td>-4.742007</td>\n",
       "    </tr>\n",
       "    <tr>\n",
       "      <th>completo</th>\n",
       "      <td>-3.545729</td>\n",
       "      <td>-4.936084</td>\n",
       "    </tr>\n",
       "    <tr>\n",
       "      <th>dvp</th>\n",
       "      <td>-3.610115</td>\n",
       "      <td>-4.711505</td>\n",
       "    </tr>\n",
       "    <tr>\n",
       "      <th>grosor</th>\n",
       "      <td>-3.623861</td>\n",
       "      <td>-4.613727</td>\n",
       "    </tr>\n",
       "    <tr>\n",
       "      <th>normal</th>\n",
       "      <td>-3.636688</td>\n",
       "      <td>-4.472261</td>\n",
       "    </tr>\n",
       "    <tr>\n",
       "      <th>...</th>\n",
       "      <td>...</td>\n",
       "      <td>...</td>\n",
       "    </tr>\n",
       "    <tr>\n",
       "      <th>espacio</th>\n",
       "      <td>-5.906786</td>\n",
       "      <td>-4.607942</td>\n",
       "    </tr>\n",
       "    <tr>\n",
       "      <th>especialmente</th>\n",
       "      <td>-5.906786</td>\n",
       "      <td>-5.781657</td>\n",
       "    </tr>\n",
       "    <tr>\n",
       "      <th>estafilomas</th>\n",
       "      <td>-5.906786</td>\n",
       "      <td>-6.000965</td>\n",
       "    </tr>\n",
       "    <tr>\n",
       "      <th>estructura</th>\n",
       "      <td>-5.906786</td>\n",
       "      <td>-5.981267</td>\n",
       "    </tr>\n",
       "    <tr>\n",
       "      <th>homogeneamente</th>\n",
       "      <td>-5.906786</td>\n",
       "      <td>-5.659557</td>\n",
       "    </tr>\n",
       "  </tbody>\n",
       "</table>\n",
       "<p>272 rows × 2 columns</p>\n",
       "</div>"
      ],
      "text/plain": [
       "                       0         1\n",
       "vitreo         -3.535176 -4.742007\n",
       "completo       -3.545729 -4.936084\n",
       "dvp            -3.610115 -4.711505\n",
       "grosor         -3.623861 -4.613727\n",
       "normal         -3.636688 -4.472261\n",
       "...                  ...       ...\n",
       "espacio        -5.906786 -4.607942\n",
       "especialmente  -5.906786 -5.781657\n",
       "estafilomas    -5.906786 -6.000965\n",
       "estructura     -5.906786 -5.981267\n",
       "homogeneamente -5.906786 -5.659557\n",
       "\n",
       "[272 rows x 2 columns]"
      ]
     },
     "execution_count": 44,
     "metadata": {},
     "output_type": "execute_result"
    }
   ],
   "source": [
    "log_probability.sort_values(0,ascending=False)"
   ]
  },
  {
   "cell_type": "code",
   "execution_count": 45,
   "id": "2264727f",
   "metadata": {},
   "outputs": [
    {
     "name": "stdout",
     "output_type": "stream",
     "text": [
      "              precision    recall  f1-score   support\n",
      "\n",
      "           0       0.78      0.88      0.82        16\n",
      "           1       0.86      0.75      0.80        16\n",
      "\n",
      "    accuracy                           0.81        32\n",
      "   macro avg       0.82      0.81      0.81        32\n",
      "weighted avg       0.82      0.81      0.81        32\n",
      "\n"
     ]
    }
   ],
   "source": [
    "print(sklearn.metrics.classification_report(\n",
    "    ecotest[\"label\"],\n",
    "    clasificador.predict(vectorizado_test)   ## evaluamos el clasificador con el grupo de test\n",
    "))"
   ]
  },
  {
   "cell_type": "code",
   "execution_count": 50,
   "id": "617c5077",
   "metadata": {},
   "outputs": [],
   "source": [
    "from sklearn.metrics import roc_curve\n",
    "from sklearn.metrics import roc_auc_score\n",
    "\n",
    "lr_probs = clasificador.predict_proba(vectorizado_test)\n",
    "lr_probs = lr_probs[:, 1]\n",
    "lr_auc = roc_auc_score(ecotest[\"label\"], lr_probs)"
   ]
  },
  {
   "cell_type": "code",
   "execution_count": 51,
   "id": "7d60a882",
   "metadata": {},
   "outputs": [
    {
     "name": "stdout",
     "output_type": "stream",
     "text": [
      "Naive Bayes: ROC AUC=0.945\n"
     ]
    }
   ],
   "source": [
    "print('Naive Bayes: ROC AUC=%.3f' % (lr_auc))"
   ]
  },
  {
   "cell_type": "code",
   "execution_count": 53,
   "id": "00e0dfae",
   "metadata": {},
   "outputs": [
    {
     "data": {
      "text/plain": [
       "[<matplotlib.lines.Line2D at 0x131f9b179a0>]"
      ]
     },
     "execution_count": 53,
     "metadata": {},
     "output_type": "execute_result"
    },
    {
     "data": {
      "image/png": "[encoded data removed]",
      "text/plain": [
       "<Figure size 432x288 with 1 Axes>"
      ]
     },
     "metadata": {
      "needs_background": "light"
     },
     "output_type": "display_data"
    }
   ],
   "source": [
    "from matplotlib import pyplot\n",
    "\n",
    "lr_fpr, lr_tpr, _ = roc_curve(ecotest[\"label\"], lr_probs)\n",
    "pyplot.plot(lr_fpr, lr_tpr, marker='.', label='Naive Bayes')"
   ]
  },
  {
   "cell_type": "code",
   "execution_count": 46,
   "id": "20f94021",
   "metadata": {},
   "outputs": [
    {
     "data": {
      "text/plain": [
       "RandomForestClassifier(max_depth=2, random_state=0)"
      ]
     },
     "execution_count": 46,
     "metadata": {},
     "output_type": "execute_result"
    }
   ],
   "source": [
    "from sklearn.ensemble import RandomForestClassifier \n",
    "clasificador_RF = RandomForestClassifier(max_depth = 2,random_state =0)\n",
    "\n",
    "clasificador_RF.fit(vectorizado_train,ecotrain[\"label\"])"
   ]
  },
  {
   "cell_type": "code",
   "execution_count": 47,
   "id": "e9cb498e",
   "metadata": {},
   "outputs": [
    {
     "name": "stdout",
     "output_type": "stream",
     "text": [
      "              precision    recall  f1-score   support\n",
      "\n",
      "           0       0.82      0.88      0.85        16\n",
      "           1       0.87      0.81      0.84        16\n",
      "\n",
      "    accuracy                           0.84        32\n",
      "   macro avg       0.85      0.84      0.84        32\n",
      "weighted avg       0.85      0.84      0.84        32\n",
      "\n"
     ]
    }
   ],
   "source": [
    "print(sklearn.metrics.classification_report(\n",
    "    ecotest[\"label\"],\n",
    "    clasificador_RF.predict(vectorizado_test)   ## evaluamos el clasificador con el grupo de test\n",
    "))"
   ]
  },
  {
   "cell_type": "code",
   "execution_count": 54,
   "id": "ffdd366f",
   "metadata": {},
   "outputs": [],
   "source": [
    "lr_probs_RF = clasificador_RF.predict_proba(vectorizado_test)\n",
    "lr_probs_RF = lr_probs_RF[:, 1]\n",
    "lr_auc_RF = roc_auc_score(ecotest[\"label\"], lr_probs_RF)"
   ]
  },
  {
   "cell_type": "code",
   "execution_count": 55,
   "id": "96ea1280",
   "metadata": {},
   "outputs": [
    {
     "name": "stdout",
     "output_type": "stream",
     "text": [
      "Naive Bayes: ROC AUC=0.902\n"
     ]
    }
   ],
   "source": [
    "print('Naive Bayes: ROC AUC=%.3f' % (lr_auc_RF))"
   ]
  },
  {
   "cell_type": "code",
   "execution_count": 56,
   "id": "1e010b18",
   "metadata": {},
   "outputs": [
    {
     "data": {
      "text/plain": [
       "[<matplotlib.lines.Line2D at 0x131f9b85ac0>]"
      ]
     },
     "execution_count": 56,
     "metadata": {},
     "output_type": "execute_result"
    },
    {
     "data": {
      "image/png": "[encoded data removed]",
      "text/plain": [
       "<Figure size 432x288 with 1 Axes>"
      ]
     },
     "metadata": {
      "needs_background": "light"
     },
     "output_type": "display_data"
    }
   ],
   "source": [
    "lr_fpr, lr_tpr, _ = roc_curve(ecotest[\"label\"], lr_probs_RF)\n",
    "pyplot.plot(lr_fpr, lr_tpr, marker='.', label='Naive Bayes')"
   ]
  },
  {
   "cell_type": "markdown",
   "id": "353a076d",
   "metadata": {},
   "source": [
    "# Conclusion"
   ]
  },
  {
   "cell_type": "markdown",
   "id": "fd8f3b3a",
   "metadata": {},
   "source": [
    " Los resultados del clasificador muestran que se puede determinar aproximadamente si una ecografia es normal o patológica segun las caracteristicas del texto contenido en su informe, la metrica no resulta muy buena pero eso se puede deber a que la muestra es pequeña, seria interesante repetir el experimento con un número mayor de muestras."
   ]
  }
 ],
 "metadata": {
  "kernelspec": {
   "display_name": "Python 3",
   "language": "python",
   "name": "python3"
  },
  "language_info": {
   "codemirror_mode": {
    "name": "ipython",
    "version": 3
   },
   "file_extension": ".py",
   "mimetype": "text/x-python",
   "name": "python",
   "nbconvert_exporter": "python",
   "pygments_lexer": "ipython3",
   "version": "3.8.8"
  }
 },
 "nbformat": 4,
 "nbformat_minor": 5
}
